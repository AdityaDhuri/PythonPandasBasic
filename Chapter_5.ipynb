{
 "cells": [
  {
   "cell_type": "markdown",
   "id": "0d29c2e3",
   "metadata": {},
   "source": [
    "# Chapter 5: Conditonal Values"
   ]
  },
  {
   "cell_type": "markdown",
   "id": "83b3f183",
   "metadata": {},
   "source": [
    "## : Compare Values"
   ]
  },
  {
   "cell_type": "code",
   "execution_count": 1,
   "id": "4f825a6b",
   "metadata": {},
   "outputs": [
    {
     "data": {
      "text/plain": [
       "False"
      ]
     },
     "execution_count": 1,
     "metadata": {},
     "output_type": "execute_result"
    }
   ],
   "source": [
    "2==5"
   ]
  },
  {
   "cell_type": "code",
   "execution_count": 2,
   "id": "2ad1ac3b",
   "metadata": {},
   "outputs": [
    {
     "data": {
      "text/plain": [
       "False"
      ]
     },
     "execution_count": 2,
     "metadata": {},
     "output_type": "execute_result"
    }
   ],
   "source": [
    "'ann' == 'ann '"
   ]
  },
  {
   "cell_type": "markdown",
   "id": "fe7c467c",
   "metadata": {},
   "source": [
    "## : Adding Logic to conditional "
   ]
  },
  {
   "cell_type": "markdown",
   "id": "2d207751",
   "metadata": {},
   "source": [
    "#### AND operator = will  return only if both values are True\n",
    "#### OR operator = will return True if any values are True\n",
    "#### IN operator = will check if a particular word is available in data\n",
    "#### NOT IN operator = will check  if particular word is not in data"
   ]
  },
  {
   "cell_type": "code",
   "execution_count": 3,
   "id": "0c4791d4",
   "metadata": {},
   "outputs": [
    {
     "data": {
      "text/plain": [
       "False"
      ]
     },
     "execution_count": 3,
     "metadata": {},
     "output_type": "execute_result"
    }
   ],
   "source": [
    "a = 5\n",
    "b = 8\n",
    "c = 3\n",
    "a>b and b>c"
   ]
  },
  {
   "cell_type": "code",
   "execution_count": 4,
   "id": "607ed5a3",
   "metadata": {},
   "outputs": [
    {
     "data": {
      "text/plain": [
       "'Aditya is very intelligent.'"
      ]
     },
     "execution_count": 4,
     "metadata": {},
     "output_type": "execute_result"
    }
   ],
   "source": [
    "Comment = \"Aditya is very intelligent.\"\n",
    "Comment"
   ]
  },
  {
   "cell_type": "code",
   "execution_count": 5,
   "id": "410e7faf",
   "metadata": {},
   "outputs": [
    {
     "data": {
      "text/plain": [
       "True"
      ]
     },
     "execution_count": 5,
     "metadata": {},
     "output_type": "execute_result"
    }
   ],
   "source": [
    "'intelligent' in Comment"
   ]
  },
  {
   "cell_type": "code",
   "execution_count": 6,
   "id": "3de06df2",
   "metadata": {},
   "outputs": [
    {
     "data": {
      "text/plain": [
       "False"
      ]
     },
     "execution_count": 6,
     "metadata": {},
     "output_type": "execute_result"
    }
   ],
   "source": [
    "'intelligent' not in Comment"
   ]
  },
  {
   "cell_type": "markdown",
   "id": "4d3f197c",
   "metadata": {},
   "source": [
    "## : Control the flow of the program"
   ]
  },
  {
   "cell_type": "code",
   "execution_count": 10,
   "id": "1e4783cf",
   "metadata": {},
   "outputs": [
    {
     "name": "stdout",
     "output_type": "stream",
     "text": [
      "Type Anything: aditya\n",
      "6\n",
      "Your input is more than 5 letters.\n"
     ]
    }
   ],
   "source": [
    "a = input(\"Type Anything: \")\n",
    "\n",
    "print(len(a))\n",
    "\n",
    "if len(a)<5:\n",
    "    print('Your input is less than 5 letters.')\n",
    "elif len(a)>5:\n",
    "    print('Your input is more than 5 letters.')\n",
    "else:\n",
    "    print('Your input is exactly 5 letters.')"
   ]
  },
  {
   "cell_type": "code",
   "execution_count": null,
   "id": "df5fc2eb",
   "metadata": {},
   "outputs": [],
   "source": [
    "##### FInd the factors of a number."
   ]
  },
  {
   "cell_type": "code",
   "execution_count": 16,
   "id": "96688bb2",
   "metadata": {},
   "outputs": [
    {
     "name": "stdout",
     "output_type": "stream",
     "text": [
      "Enter a number: 10\n",
      "The factors are 1\n",
      "The factors are 2\n",
      "The factors are 5\n",
      "The factors are 10\n"
     ]
    }
   ],
   "source": [
    "a = int(input('Enter a number: '))\n",
    "\n",
    "for i in range(1, a+1):\n",
    "    if a%i ==0:\n",
    "        print('The factors are',i)\n",
    "        i = i+1\n",
    "    "
   ]
  },
  {
   "cell_type": "markdown",
   "id": "d5681e5c",
   "metadata": {},
   "source": [
    "## : Break out of pattern"
   ]
  },
  {
   "cell_type": "code",
   "execution_count": 18,
   "id": "bf9785e4",
   "metadata": {},
   "outputs": [
    {
     "name": "stdout",
     "output_type": "stream",
     "text": [
      "Type q to quit: Q\n"
     ]
    }
   ],
   "source": [
    "while True:\n",
    "    a = input('Type q to quit: ')\n",
    "    \n",
    "    if a == 'q' or 'Q':\n",
    "        break"
   ]
  },
  {
   "cell_type": "code",
   "execution_count": 19,
   "id": "b6c2b78b",
   "metadata": {},
   "outputs": [
    {
     "name": "stdout",
     "output_type": "stream",
     "text": [
      "1\n",
      "2\n",
      "4\n",
      "5\n",
      "7\n",
      "8\n"
     ]
    }
   ],
   "source": [
    "for i in range(1,10):\n",
    "    if i%3 == 0:\n",
    "        continue\n",
    "    print(i)    "
   ]
  }
 ],
 "metadata": {
  "kernelspec": {
   "display_name": "Python 3",
   "language": "python",
   "name": "python3"
  },
  "language_info": {
   "codemirror_mode": {
    "name": "ipython",
    "version": 3
   },
   "file_extension": ".py",
   "mimetype": "text/x-python",
   "name": "python",
   "nbconvert_exporter": "python",
   "pygments_lexer": "ipython3",
   "version": "3.8.8"
  }
 },
 "nbformat": 4,
 "nbformat_minor": 5
}
