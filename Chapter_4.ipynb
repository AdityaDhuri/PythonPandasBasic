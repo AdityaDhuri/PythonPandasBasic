{
 "cells": [
  {
   "cell_type": "markdown",
   "id": "2eb8b107",
   "metadata": {},
   "source": [
    "# Chapter 4: Functions and Loops\n",
    "#### 3 types of Functions\n",
    "1) Pre-defined functions - it's an inbuilt functions which gets installed in my local machne when installing anaconda navigator.\n",
    "2) User-defined functions - its not an inbuilt function. Its user defined function\n",
    "3) Anonymous functons"
   ]
  },
  {
   "cell_type": "code",
   "execution_count": 1,
   "id": "8128e591",
   "metadata": {},
   "outputs": [
    {
     "data": {
      "text/plain": [
       "8"
      ]
     },
     "execution_count": 1,
     "metadata": {},
     "output_type": "execute_result"
    }
   ],
   "source": [
    "# 1) Pre-defined\n",
    "len('HI HELLO')"
   ]
  },
  {
   "cell_type": "code",
   "execution_count": 9,
   "id": "18b39cdb",
   "metadata": {},
   "outputs": [],
   "source": [
    "# 2) User-defined\n",
    "def printing():\n",
    "    print(\"printing\")"
   ]
  },
  {
   "cell_type": "code",
   "execution_count": 10,
   "id": "fe807fe6",
   "metadata": {},
   "outputs": [
    {
     "name": "stdout",
     "output_type": "stream",
     "text": [
      "printing\n"
     ]
    }
   ],
   "source": [
    "printing()"
   ]
  },
  {
   "cell_type": "code",
   "execution_count": 11,
   "id": "2628193a",
   "metadata": {},
   "outputs": [],
   "source": [
    "def number(a,b):\n",
    "    return a + b"
   ]
  },
  {
   "cell_type": "code",
   "execution_count": 12,
   "id": "1d21d0a7",
   "metadata": {},
   "outputs": [
    {
     "data": {
      "text/plain": [
       "9"
      ]
     },
     "execution_count": 12,
     "metadata": {},
     "output_type": "execute_result"
    }
   ],
   "source": [
    "number(4,5)"
   ]
  },
  {
   "cell_type": "code",
   "execution_count": 13,
   "id": "59392d93",
   "metadata": {},
   "outputs": [],
   "source": [
    "###### Create a function with 3 argument of diff data types which returns  a statement\n",
    "def numbers(a,b,c):\n",
    "    print('The data types of a, b, c are: ')\n",
    "    return type(a), type(b), type(c)\n",
    "    "
   ]
  },
  {
   "cell_type": "code",
   "execution_count": 14,
   "id": "17901dd8",
   "metadata": {},
   "outputs": [
    {
     "name": "stdout",
     "output_type": "stream",
     "text": [
      "The data types of a, b, c are: \n"
     ]
    },
    {
     "data": {
      "text/plain": [
       "(int, float, int)"
      ]
     },
     "execution_count": 14,
     "metadata": {},
     "output_type": "execute_result"
    }
   ],
   "source": [
    "numbers(2,2.5,7)"
   ]
  },
  {
   "cell_type": "code",
   "execution_count": 15,
   "id": "66f8d468",
   "metadata": {},
   "outputs": [
    {
     "name": "stdout",
     "output_type": "stream",
     "text": [
      "The data types of a, b, c are: \n"
     ]
    },
    {
     "data": {
      "text/plain": [
       "(float, int, float)"
      ]
     },
     "execution_count": 15,
     "metadata": {},
     "output_type": "execute_result"
    }
   ],
   "source": [
    "numbers(b=4, a=7.8, c=5.6)"
   ]
  },
  {
   "cell_type": "code",
   "execution_count": 16,
   "id": "aa11c5a6",
   "metadata": {},
   "outputs": [
    {
     "name": "stdout",
     "output_type": "stream",
     "text": [
      "Name:  aditya\n",
      "Age:  22\n",
      "Company:  Microsoft\n"
     ]
    }
   ],
   "source": [
    "def details(name, age, company='Microsoft'):\n",
    "    print('Name: ', name)\n",
    "    print('Age: ', age)\n",
    "    print('Company: ', company)\n",
    "details('aditya', 22)    \n"
   ]
  },
  {
   "cell_type": "code",
   "execution_count": 17,
   "id": "3e4c71b1",
   "metadata": {},
   "outputs": [
    {
     "name": "stdout",
     "output_type": "stream",
     "text": [
      "Name:  ankita\n",
      "Age:  22\n",
      "Company:  Hexaware\n"
     ]
    }
   ],
   "source": [
    "details('ankita',22,'Hexaware')"
   ]
  },
  {
   "cell_type": "markdown",
   "id": "e59584f4",
   "metadata": {},
   "source": [
    "### Variable length argument"
   ]
  },
  {
   "cell_type": "code",
   "execution_count": 18,
   "id": "16ca617d",
   "metadata": {},
   "outputs": [
    {
     "name": "stdout",
     "output_type": "stream",
     "text": [
      "Name:  aditya\n",
      "Age:  22\n",
      "Company:  ('Microsoft', 'Google', 'Citus')\n"
     ]
    }
   ],
   "source": [
    "def details(name, age, *company):\n",
    "    print('Name: ', name)\n",
    "    print('Age: ', age)\n",
    "    print('Company: ', company)\n",
    "details('aditya', 22, 'Microsoft','Google','Citus' )    \n"
   ]
  },
  {
   "cell_type": "code",
   "execution_count": 19,
   "id": "2996c5d2",
   "metadata": {},
   "outputs": [
    {
     "name": "stdout",
     "output_type": "stream",
     "text": [
      "Name:  aditya\n",
      "Age:  22\n",
      "Company:  {'company_1': 'Microsoft', 'company_2': 'Google', 'company_3': 'Citus'}\n"
     ]
    }
   ],
   "source": [
    "def details(name, age, **company):\n",
    "    print('Name: ', name)\n",
    "    print('Age: ', age)\n",
    "    print('Company: ', company)\n",
    "details('aditya', 22, company_1='Microsoft',company_2='Google',company_3='Citus' )    \n"
   ]
  },
  {
   "cell_type": "markdown",
   "id": "12bfbde1",
   "metadata": {},
   "source": [
    "## : Run in circles"
   ]
  },
  {
   "cell_type": "code",
   "execution_count": 20,
   "id": "c7b87e90",
   "metadata": {},
   "outputs": [
    {
     "data": {
      "text/plain": [
       "[1, 2, 3, 4, 5, 6, 8, 5, 5]"
      ]
     },
     "execution_count": 20,
     "metadata": {},
     "output_type": "execute_result"
    }
   ],
   "source": [
    "a = [1,2,3,4,5,6,8,5,5]\n",
    "a"
   ]
  },
  {
   "cell_type": "code",
   "execution_count": 21,
   "id": "2fd70050",
   "metadata": {},
   "outputs": [
    {
     "name": "stdout",
     "output_type": "stream",
     "text": [
      "1\n",
      "2\n",
      "3\n",
      "4\n",
      "5\n",
      "6\n",
      "8\n",
      "5\n",
      "5\n"
     ]
    }
   ],
   "source": [
    "for i in a:\n",
    "    print(i)"
   ]
  },
  {
   "cell_type": "code",
   "execution_count": 26,
   "id": "dee5b924",
   "metadata": {},
   "outputs": [
    {
     "name": "stdout",
     "output_type": "stream",
     "text": [
      "2\n",
      "4\n",
      "6\n",
      "8\n",
      "10\n",
      "12\n",
      "14\n",
      "16\n",
      "18\n",
      "20\n"
     ]
    }
   ],
   "source": [
    "for i in range(1,11):\n",
    "    print(i*2)\n"
   ]
  },
  {
   "cell_type": "code",
   "execution_count": 29,
   "id": "ea70f8a2",
   "metadata": {},
   "outputs": [],
   "source": [
    "###### Create a function which holds for loop\n",
    "def table(a):\n",
    "    for i in range(1,11):\n",
    "        print(i * a)\n",
    "        "
   ]
  },
  {
   "cell_type": "code",
   "execution_count": 31,
   "id": "8d9f7637",
   "metadata": {},
   "outputs": [
    {
     "name": "stdout",
     "output_type": "stream",
     "text": [
      "15\n",
      "30\n",
      "45\n",
      "60\n",
      "75\n",
      "90\n",
      "105\n",
      "120\n",
      "135\n",
      "150\n"
     ]
    }
   ],
   "source": [
    "table(15)"
   ]
  },
  {
   "cell_type": "code",
   "execution_count": null,
   "id": "458fd9c9",
   "metadata": {},
   "outputs": [],
   "source": []
  }
 ],
 "metadata": {
  "kernelspec": {
   "display_name": "Python 3",
   "language": "python",
   "name": "python3"
  },
  "language_info": {
   "codemirror_mode": {
    "name": "ipython",
    "version": 3
   },
   "file_extension": ".py",
   "mimetype": "text/x-python",
   "name": "python",
   "nbconvert_exporter": "python",
   "pygments_lexer": "ipython3",
   "version": "3.8.8"
  }
 },
 "nbformat": 4,
 "nbformat_minor": 5
}
