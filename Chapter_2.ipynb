{
 "cells": [
  {
   "cell_type": "markdown",
   "id": "345c3717",
   "metadata": {},
   "source": [
    "# Chapter 2"
   ]
  },
  {
   "cell_type": "markdown",
   "id": "9d7811a1",
   "metadata": {},
   "source": [
    "## : String and String Method "
   ]
  },
  {
   "cell_type": "code",
   "execution_count": 3,
   "id": "75800de5",
   "metadata": {},
   "outputs": [],
   "source": [
    "team = 'CSK,RCB,MI'"
   ]
  },
  {
   "cell_type": "code",
   "execution_count": 4,
   "id": "4a52a9e8",
   "metadata": {},
   "outputs": [
    {
     "data": {
      "text/plain": [
       "str"
      ]
     },
     "execution_count": 4,
     "metadata": {},
     "output_type": "execute_result"
    }
   ],
   "source": [
    "type(team)"
   ]
  },
  {
   "cell_type": "markdown",
   "id": "0ea6add1",
   "metadata": {},
   "source": [
    "## : Concatenation, Indexing and slicing"
   ]
  },
  {
   "cell_type": "code",
   "execution_count": 8,
   "id": "435a02df",
   "metadata": {},
   "outputs": [],
   "source": [
    "name = 'aditya'\n",
    "surname = 'dhuri'\n",
    "middle = ' santosh '"
   ]
  },
  {
   "cell_type": "code",
   "execution_count": 6,
   "id": "dd0224d7",
   "metadata": {},
   "outputs": [
    {
     "name": "stdout",
     "output_type": "stream",
     "text": [
      "adityadhuri\n"
     ]
    }
   ],
   "source": [
    "print(name + surname)"
   ]
  },
  {
   "cell_type": "code",
   "execution_count": 9,
   "id": "ec19bb21",
   "metadata": {},
   "outputs": [
    {
     "name": "stdout",
     "output_type": "stream",
     "text": [
      "aditya santosh dhuri\n"
     ]
    }
   ],
   "source": [
    "print(name + middle + surname)"
   ]
  },
  {
   "cell_type": "code",
   "execution_count": 10,
   "id": "37e0776a",
   "metadata": {},
   "outputs": [
    {
     "name": "stdout",
     "output_type": "stream",
     "text": [
      "aditya dhuri\n"
     ]
    }
   ],
   "source": [
    "print(name + ' ' + surname)"
   ]
  },
  {
   "cell_type": "code",
   "execution_count": 12,
   "id": "644b57f5",
   "metadata": {},
   "outputs": [
    {
     "data": {
      "text/plain": [
       "'ditya'"
      ]
     },
     "execution_count": 12,
     "metadata": {},
     "output_type": "execute_result"
    }
   ],
   "source": [
    "name[1:6] # [start:end] index starts from zero(0)"
   ]
  },
  {
   "cell_type": "code",
   "execution_count": 13,
   "id": "c05dcecb",
   "metadata": {},
   "outputs": [
    {
     "data": {
      "text/plain": [
       "'aiy'"
      ]
     },
     "execution_count": 13,
     "metadata": {},
     "output_type": "execute_result"
    }
   ],
   "source": [
    "name[0:6:2] #[start:end:gap]"
   ]
  },
  {
   "cell_type": "markdown",
   "id": "0e81c59e",
   "metadata": {},
   "source": [
    "# : Manipulate Strings with Methods"
   ]
  },
  {
   "cell_type": "code",
   "execution_count": 14,
   "id": "da2b22b7",
   "metadata": {},
   "outputs": [
    {
     "data": {
      "text/plain": [
       "6"
      ]
     },
     "execution_count": 14,
     "metadata": {},
     "output_type": "execute_result"
    }
   ],
   "source": [
    "len(name)"
   ]
  },
  {
   "cell_type": "code",
   "execution_count": 15,
   "id": "9a2eee26",
   "metadata": {},
   "outputs": [
    {
     "data": {
      "text/plain": [
       "'Aditya'"
      ]
     },
     "execution_count": 15,
     "metadata": {},
     "output_type": "execute_result"
    }
   ],
   "source": [
    "str.capitalize(name) #use str. and press tab key to find all string methods"
   ]
  },
  {
   "cell_type": "code",
   "execution_count": 16,
   "id": "90671ee2",
   "metadata": {},
   "outputs": [
    {
     "data": {
      "text/plain": [
       "True"
      ]
     },
     "execution_count": 16,
     "metadata": {},
     "output_type": "execute_result"
    }
   ],
   "source": [
    "name.endswith('a')"
   ]
  },
  {
   "cell_type": "code",
   "execution_count": 18,
   "id": "6d5552bc",
   "metadata": {},
   "outputs": [
    {
     "data": {
      "text/plain": [
       "False"
      ]
     },
     "execution_count": 18,
     "metadata": {},
     "output_type": "execute_result"
    }
   ],
   "source": [
    "name.isupper()"
   ]
  },
  {
   "cell_type": "code",
   "execution_count": 19,
   "id": "c3bdb672",
   "metadata": {},
   "outputs": [
    {
     "data": {
      "text/plain": [
       "'ADITYA'"
      ]
     },
     "execution_count": 19,
     "metadata": {},
     "output_type": "execute_result"
    }
   ],
   "source": [
    "str.upper(name)"
   ]
  },
  {
   "cell_type": "code",
   "execution_count": 20,
   "id": "ce3b3f82",
   "metadata": {},
   "outputs": [
    {
     "data": {
      "text/plain": [
       "'aditya'"
      ]
     },
     "execution_count": 20,
     "metadata": {},
     "output_type": "execute_result"
    }
   ],
   "source": [
    "name"
   ]
  },
  {
   "cell_type": "code",
   "execution_count": 23,
   "id": "60323848",
   "metadata": {},
   "outputs": [],
   "source": [
    "name = name.replace('aditya','ankita')"
   ]
  },
  {
   "cell_type": "code",
   "execution_count": 24,
   "id": "2309586e",
   "metadata": {},
   "outputs": [
    {
     "data": {
      "text/plain": [
       "'ankita'"
      ]
     },
     "execution_count": 24,
     "metadata": {},
     "output_type": "execute_result"
    }
   ],
   "source": [
    "name"
   ]
  },
  {
   "cell_type": "markdown",
   "id": "444ffe56",
   "metadata": {},
   "source": [
    "## : Interact with user input"
   ]
  },
  {
   "cell_type": "code",
   "execution_count": 26,
   "id": "c9d5d378",
   "metadata": {},
   "outputs": [
    {
     "name": "stdout",
     "output_type": "stream",
     "text": [
      "username: Aditya\n"
     ]
    }
   ],
   "source": [
    "a = input(\"username: \")"
   ]
  },
  {
   "cell_type": "code",
   "execution_count": 27,
   "id": "baf26197",
   "metadata": {},
   "outputs": [
    {
     "name": "stdout",
     "output_type": "stream",
     "text": [
      "Aditya\n"
     ]
    }
   ],
   "source": [
    "print(a)"
   ]
  },
  {
   "cell_type": "code",
   "execution_count": 29,
   "id": "eca7b9d3",
   "metadata": {
    "scrolled": true
   },
   "outputs": [
    {
     "name": "stdout",
     "output_type": "stream",
     "text": [
      "username: ADItya\n",
      "aditya\n"
     ]
    }
   ],
   "source": [
    "b = input(\"username: \")\n",
    "b = b.lower()\n",
    "print(b)"
   ]
  },
  {
   "cell_type": "code",
   "execution_count": 31,
   "id": "6371a96e",
   "metadata": {},
   "outputs": [
    {
     "name": "stdout",
     "output_type": "stream",
     "text": [
      "username: manipal\n",
      "m\n"
     ]
    }
   ],
   "source": [
    "###### to print first letter of user\n",
    "c = input(\"username: \")\n",
    "print(c[0])"
   ]
  },
  {
   "cell_type": "markdown",
   "id": "dbadab8a",
   "metadata": {},
   "source": [
    "## : Working with Strings & Numbers and Streamline print statement"
   ]
  },
  {
   "cell_type": "code",
   "execution_count": 50,
   "id": "9791de99",
   "metadata": {},
   "outputs": [
    {
     "name": "stdout",
     "output_type": "stream",
     "text": [
      "Enter first number: 5\n",
      "Enter second number: 7\n",
      "12\n",
      "Addion of 5 and 7 is 12\n",
      "Addition of  5 and 7 is 12\n",
      "Addition of 5 and 7 is 12\n"
     ]
    }
   ],
   "source": [
    "#########get two numbers from users add and print the numbers\n",
    "\n",
    "a = int(input(\"Enter first number: \"))\n",
    "b = int(input(\"Enter second number: \"))\n",
    "\n",
    "c = (a + b)\n",
    "\n",
    "# Method 1\n",
    "print(c)   # we have to clearly give the type of input/float or it will show type string and will add 4 + 5 = 45\n",
    "\n",
    "# Method 2\n",
    "print(\"Addion of \" + str(a) + ' and ' + str(b) + \" is \" + str(c))\n",
    "\n",
    "# Method 3\n",
    "print(\"Addition of \", a, \"and\", b, \"is\", c)\n",
    "\n",
    "# Method 4\n",
    "print(\"Addition of {} and {} is {}\".format(a,b,c))"
   ]
  },
  {
   "cell_type": "markdown",
   "id": "ff471e29",
   "metadata": {},
   "source": [
    "## : FInd a string in a string "
   ]
  },
  {
   "cell_type": "code",
   "execution_count": 1,
   "id": "b7379ab7",
   "metadata": {},
   "outputs": [
    {
     "data": {
      "text/plain": [
       "'The Python class of John Sir is very good.'"
      ]
     },
     "execution_count": 1,
     "metadata": {},
     "output_type": "execute_result"
    }
   ],
   "source": [
    "result = 'The Python class of John Sir is very good.'\n",
    "result"
   ]
  },
  {
   "cell_type": "code",
   "execution_count": 2,
   "id": "b473e162",
   "metadata": {},
   "outputs": [
    {
     "data": {
      "text/plain": [
       "5"
      ]
     },
     "execution_count": 2,
     "metadata": {},
     "output_type": "execute_result"
    }
   ],
   "source": [
    "result.find('y')"
   ]
  },
  {
   "cell_type": "code",
   "execution_count": 3,
   "id": "2e125ad5",
   "metadata": {},
   "outputs": [
    {
     "data": {
      "text/plain": [
       "'The Python class of John Sir is awesome.'"
      ]
     },
     "execution_count": 3,
     "metadata": {},
     "output_type": "execute_result"
    }
   ],
   "source": [
    "result.replace('very good', 'awesome')"
   ]
  }
 ],
 "metadata": {
  "kernelspec": {
   "display_name": "Python 3",
   "language": "python",
   "name": "python3"
  },
  "language_info": {
   "codemirror_mode": {
    "name": "ipython",
    "version": 3
   },
   "file_extension": ".py",
   "mimetype": "text/x-python",
   "name": "python",
   "nbconvert_exporter": "python",
   "pygments_lexer": "ipython3",
   "version": "3.8.8"
  }
 },
 "nbformat": 4,
 "nbformat_minor": 5
}
