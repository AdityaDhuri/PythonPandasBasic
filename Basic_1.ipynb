{
 "cells": [
  {
   "cell_type": "markdown",
   "id": "62efd4bd",
   "metadata": {},
   "source": [
    "# Chapter 1: Basic"
   ]
  },
  {
   "cell_type": "code",
   "execution_count": 1,
   "id": "6d8fa1ba",
   "metadata": {},
   "outputs": [
    {
     "name": "stdout",
     "output_type": "stream",
     "text": [
      "Hello World\n"
     ]
    }
   ],
   "source": [
    "print(\"Hello World\")"
   ]
  },
  {
   "cell_type": "code",
   "execution_count": 2,
   "id": "3db9cc92",
   "metadata": {},
   "outputs": [
    {
     "name": "stdout",
     "output_type": "stream",
     "text": [
      "my name is,\"aditya\".\n"
     ]
    }
   ],
   "source": [
    "print('my name is,\"aditya\".')"
   ]
  },
  {
   "cell_type": "code",
   "execution_count": 3,
   "id": "5881286f",
   "metadata": {},
   "outputs": [
    {
     "name": "stdout",
     "output_type": "stream",
     "text": [
      "my name is,\"aditya\".\n"
     ]
    }
   ],
   "source": [
    "print('''my name is,\"aditya\".''')"
   ]
  },
  {
   "cell_type": "markdown",
   "id": "2226d13b",
   "metadata": {},
   "source": [
    "## :Variable\n"
   ]
  },
  {
   "cell_type": "code",
   "execution_count": 4,
   "id": "710f1892",
   "metadata": {},
   "outputs": [],
   "source": [
    "ad = 22\n"
   ]
  },
  {
   "cell_type": "code",
   "execution_count": 5,
   "id": "83f2ea31",
   "metadata": {},
   "outputs": [],
   "source": [
    "name = 'Aditya'"
   ]
  },
  {
   "cell_type": "code",
   "execution_count": 6,
   "id": "9e7138f0",
   "metadata": {},
   "outputs": [
    {
     "data": {
      "text/plain": [
       "int"
      ]
     },
     "execution_count": 6,
     "metadata": {},
     "output_type": "execute_result"
    }
   ],
   "source": [
    "type(ad)"
   ]
  },
  {
   "cell_type": "code",
   "execution_count": 7,
   "id": "70efdd26",
   "metadata": {},
   "outputs": [
    {
     "data": {
      "text/plain": [
       "str"
      ]
     },
     "execution_count": 7,
     "metadata": {},
     "output_type": "execute_result"
    }
   ],
   "source": [
    "type(name)"
   ]
  },
  {
   "cell_type": "code",
   "execution_count": 8,
   "id": "5d2a2884",
   "metadata": {},
   "outputs": [],
   "source": [
    "fl = 0.2"
   ]
  },
  {
   "cell_type": "code",
   "execution_count": 9,
   "id": "20097142",
   "metadata": {},
   "outputs": [
    {
     "data": {
      "text/plain": [
       "float"
      ]
     },
     "execution_count": 9,
     "metadata": {},
     "output_type": "execute_result"
    }
   ],
   "source": [
    "type(fl)"
   ]
  },
  {
   "cell_type": "code",
   "execution_count": null,
   "id": "6a54c15a",
   "metadata": {},
   "outputs": [],
   "source": []
  }
 ],
 "metadata": {
  "kernelspec": {
   "display_name": "Python 3",
   "language": "python",
   "name": "python3"
  },
  "language_info": {
   "codemirror_mode": {
    "name": "ipython",
    "version": 3
   },
   "file_extension": ".py",
   "mimetype": "text/x-python",
   "name": "python",
   "nbconvert_exporter": "python",
   "pygments_lexer": "ipython3",
   "version": "3.8.8"
  }
 },
 "nbformat": 4,
 "nbformat_minor": 5
}
