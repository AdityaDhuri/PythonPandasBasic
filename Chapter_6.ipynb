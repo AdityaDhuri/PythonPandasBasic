{
 "cells": [
  {
   "cell_type": "markdown",
   "id": "a0cb72c8",
   "metadata": {},
   "source": [
    "# Data Structure in Python\n",
    "## 4 types of data types\n",
    "#### 1) List\n",
    "#### 2) Set\n",
    "#### 3) Dictionary\n",
    "#### 4) tuple"
   ]
  },
  {
   "cell_type": "markdown",
   "id": "30a6d008",
   "metadata": {},
   "source": [
    "##  1) List\n",
    "#### 1D Data Structure.\n",
    "#### Allows Duplicate elements.\n",
    "#### Mutable = Changeable.\n",
    "#### Slicing can be done because list is indexable.\n",
    "#### Heterogenous datatype - int, float, str\n",
    "#### enclosed in [ ]"
   ]
  },
  {
   "cell_type": "code",
   "execution_count": 1,
   "id": "b6cbafc2",
   "metadata": {},
   "outputs": [
    {
     "data": {
      "text/plain": [
       "[]"
      ]
     },
     "execution_count": 1,
     "metadata": {},
     "output_type": "execute_result"
    }
   ],
   "source": [
    "empty_list = []\n",
    "empty_list"
   ]
  },
  {
   "cell_type": "code",
   "execution_count": 2,
   "id": "f42b563e",
   "metadata": {},
   "outputs": [
    {
     "data": {
      "text/plain": [
       "list"
      ]
     },
     "execution_count": 2,
     "metadata": {},
     "output_type": "execute_result"
    }
   ],
   "source": [
    "type(empty_list)"
   ]
  },
  {
   "cell_type": "code",
   "execution_count": 4,
   "id": "ff0c76ed",
   "metadata": {},
   "outputs": [
    {
     "data": {
      "text/plain": [
       "[45, 56, 48, 4, 64, 323, 31, 9, 494, 616, 32, 32, 56, 9, 6, 3, 3]"
      ]
     },
     "execution_count": 4,
     "metadata": {},
     "output_type": "execute_result"
    }
   ],
   "source": [
    "number = [45,56,48,4,64,323,31,9,494,616,32,32,56,9,6,3,3]\n",
    "number"
   ]
  },
  {
   "cell_type": "code",
   "execution_count": 5,
   "id": "ec37b006",
   "metadata": {},
   "outputs": [
    {
     "data": {
      "text/plain": [
       "17"
      ]
     },
     "execution_count": 5,
     "metadata": {},
     "output_type": "execute_result"
    }
   ],
   "source": [
    "len(number)"
   ]
  },
  {
   "cell_type": "code",
   "execution_count": 6,
   "id": "bec4c8c6",
   "metadata": {},
   "outputs": [
    {
     "data": {
      "text/plain": [
       "48"
      ]
     },
     "execution_count": 6,
     "metadata": {},
     "output_type": "execute_result"
    }
   ],
   "source": [
    "number[2]"
   ]
  },
  {
   "cell_type": "code",
   "execution_count": 8,
   "id": "2158bfe5",
   "metadata": {},
   "outputs": [],
   "source": [
    "number[5]='adi'"
   ]
  },
  {
   "cell_type": "code",
   "execution_count": 33,
   "id": "f409478c",
   "metadata": {
    "scrolled": true
   },
   "outputs": [
    {
     "data": {
      "text/plain": [
       "[45,\n",
       " 56,\n",
       " 48,\n",
       " 4,\n",
       " 64,\n",
       " 'adi',\n",
       " 31,\n",
       " 9,\n",
       " 494,\n",
       " 616,\n",
       " 32,\n",
       " 32,\n",
       " 56,\n",
       " 9,\n",
       " 6,\n",
       " 3,\n",
       " 3,\n",
       " 'aditya',\n",
       " 'aditya',\n",
       " 'mad']"
      ]
     },
     "execution_count": 33,
     "metadata": {},
     "output_type": "execute_result"
    }
   ],
   "source": [
    "number"
   ]
  },
  {
   "cell_type": "code",
   "execution_count": 32,
   "id": "e54baca5",
   "metadata": {},
   "outputs": [
    {
     "data": {
      "text/plain": [
       "[45,\n",
       " 56,\n",
       " 48,\n",
       " 4,\n",
       " 64,\n",
       " 'adi',\n",
       " 31,\n",
       " 9,\n",
       " 494,\n",
       " 616,\n",
       " 32,\n",
       " 32,\n",
       " 56,\n",
       " 9,\n",
       " 6,\n",
       " 3,\n",
       " 3,\n",
       " 'aditya',\n",
       " 'aditya',\n",
       " 'mad']"
      ]
     },
     "execution_count": 32,
     "metadata": {},
     "output_type": "execute_result"
    }
   ],
   "source": [
    "number.append('mad')\n",
    "number"
   ]
  },
  {
   "cell_type": "markdown",
   "id": "9dfd16b3",
   "metadata": {},
   "source": [
    "## 2) Sets\n",
    "#### Heterogenous\n",
    "#### 1D\n",
    "#### Mutable\n",
    "#### Not slicable\n",
    "#### Dosent allow duplicate values\n",
    "#### enclosed in curly brackets {}\n"
   ]
  },
  {
   "cell_type": "code",
   "execution_count": 12,
   "id": "00006518",
   "metadata": {},
   "outputs": [
    {
     "data": {
      "text/plain": [
       "set()"
      ]
     },
     "execution_count": 12,
     "metadata": {},
     "output_type": "execute_result"
    }
   ],
   "source": [
    "empty_set=set()\n",
    "empty_set\n"
   ]
  },
  {
   "cell_type": "code",
   "execution_count": 13,
   "id": "368472ef",
   "metadata": {},
   "outputs": [
    {
     "data": {
      "text/plain": [
       "set"
      ]
     },
     "execution_count": 13,
     "metadata": {},
     "output_type": "execute_result"
    }
   ],
   "source": [
    "type(empty_set)"
   ]
  },
  {
   "cell_type": "code",
   "execution_count": 20,
   "id": "02be6a25",
   "metadata": {},
   "outputs": [],
   "source": [
    "details = {12, 15, 5.5, 'adi', 15,5.5,6}"
   ]
  },
  {
   "cell_type": "code",
   "execution_count": 19,
   "id": "fb411ce7",
   "metadata": {},
   "outputs": [
    {
     "data": {
      "text/plain": [
       "set"
      ]
     },
     "execution_count": 19,
     "metadata": {},
     "output_type": "execute_result"
    }
   ],
   "source": [
    "type(details)"
   ]
  },
  {
   "cell_type": "code",
   "execution_count": 21,
   "id": "30c31641",
   "metadata": {},
   "outputs": [
    {
     "data": {
      "text/plain": [
       "{12, 15, 5.5, 6, 'adi'}"
      ]
     },
     "execution_count": 21,
     "metadata": {},
     "output_type": "execute_result"
    }
   ],
   "source": [
    "details"
   ]
  },
  {
   "cell_type": "code",
   "execution_count": 22,
   "id": "3c812043",
   "metadata": {},
   "outputs": [
    {
     "data": {
      "text/plain": [
       "5"
      ]
     },
     "execution_count": 22,
     "metadata": {},
     "output_type": "execute_result"
    }
   ],
   "source": [
    "len(details)"
   ]
  },
  {
   "cell_type": "code",
   "execution_count": 23,
   "id": "5f169cf4",
   "metadata": {},
   "outputs": [
    {
     "ename": "TypeError",
     "evalue": "'set' object is not subscriptable",
     "output_type": "error",
     "traceback": [
      "\u001b[1;31m---------------------------------------------------------------------------\u001b[0m",
      "\u001b[1;31mTypeError\u001b[0m                                 Traceback (most recent call last)",
      "\u001b[1;32m<ipython-input-23-a5ec77c8702a>\u001b[0m in \u001b[0;36m<module>\u001b[1;34m\u001b[0m\n\u001b[1;32m----> 1\u001b[1;33m \u001b[0mdetails\u001b[0m\u001b[1;33m[\u001b[0m\u001b[1;36m0\u001b[0m\u001b[1;33m]\u001b[0m\u001b[1;33m\u001b[0m\u001b[1;33m\u001b[0m\u001b[0m\n\u001b[0m",
      "\u001b[1;31mTypeError\u001b[0m: 'set' object is not subscriptable"
     ]
    }
   ],
   "source": [
    "details[0] #not indexable"
   ]
  },
  {
   "cell_type": "code",
   "execution_count": 25,
   "id": "eafc005b",
   "metadata": {},
   "outputs": [
    {
     "ename": "TypeError",
     "evalue": "'set' object is not subscriptable",
     "output_type": "error",
     "traceback": [
      "\u001b[1;31m---------------------------------------------------------------------------\u001b[0m",
      "\u001b[1;31mTypeError\u001b[0m                                 Traceback (most recent call last)",
      "\u001b[1;32m<ipython-input-25-3b92d23c86fa>\u001b[0m in \u001b[0;36m<module>\u001b[1;34m\u001b[0m\n\u001b[1;32m----> 1\u001b[1;33m \u001b[0mdetails\u001b[0m\u001b[1;33m[\u001b[0m\u001b[1;36m1\u001b[0m\u001b[1;33m:\u001b[0m\u001b[1;36m9\u001b[0m\u001b[1;33m]\u001b[0m\u001b[1;33m\u001b[0m\u001b[1;33m\u001b[0m\u001b[0m\n\u001b[0m",
      "\u001b[1;31mTypeError\u001b[0m: 'set' object is not subscriptable"
     ]
    }
   ],
   "source": [
    "details[1:9] #not slicing"
   ]
  },
  {
   "cell_type": "code",
   "execution_count": 28,
   "id": "e6e46cc5",
   "metadata": {},
   "outputs": [],
   "source": [
    "details.add(45) # for set functions wwrite set. and press tab"
   ]
  },
  {
   "cell_type": "code",
   "execution_count": 29,
   "id": "03ae732a",
   "metadata": {},
   "outputs": [
    {
     "data": {
      "text/plain": [
       "{12, 15, 45, 5.5, 6, 'adi'}"
      ]
     },
     "execution_count": 29,
     "metadata": {},
     "output_type": "execute_result"
    }
   ],
   "source": [
    "details"
   ]
  },
  {
   "cell_type": "markdown",
   "id": "3ed3e945",
   "metadata": {},
   "source": [
    "## 3)Tuple\n",
    "#### 1D\n",
    "#### Heterogenous\n",
    "#### Immutable\n",
    "#### slicing can be done"
   ]
  },
  {
   "cell_type": "code",
   "execution_count": 34,
   "id": "ef936eb4",
   "metadata": {},
   "outputs": [
    {
     "data": {
      "text/plain": [
       "()"
      ]
     },
     "execution_count": 34,
     "metadata": {},
     "output_type": "execute_result"
    }
   ],
   "source": [
    "empty_tuple = ()\n",
    "empty_tuple"
   ]
  },
  {
   "cell_type": "code",
   "execution_count": 35,
   "id": "e251a03c",
   "metadata": {},
   "outputs": [
    {
     "data": {
      "text/plain": [
       "tuple"
      ]
     },
     "execution_count": 35,
     "metadata": {},
     "output_type": "execute_result"
    }
   ],
   "source": [
    "type(empty_tuple)"
   ]
  },
  {
   "cell_type": "code",
   "execution_count": 36,
   "id": "ad21cacf",
   "metadata": {},
   "outputs": [
    {
     "data": {
      "text/plain": [
       "tuple"
      ]
     },
     "execution_count": 36,
     "metadata": {},
     "output_type": "execute_result"
    }
   ],
   "source": [
    "score = (45,56,32,89,54,78,65,21,32,65,78,51,35,95,57)\n",
    "type(score)"
   ]
  },
  {
   "cell_type": "code",
   "execution_count": 37,
   "id": "d5cab1e3",
   "metadata": {},
   "outputs": [
    {
     "data": {
      "text/plain": [
       "15"
      ]
     },
     "execution_count": 37,
     "metadata": {},
     "output_type": "execute_result"
    }
   ],
   "source": [
    "len(score)"
   ]
  },
  {
   "cell_type": "code",
   "execution_count": 39,
   "id": "54d69a73",
   "metadata": {},
   "outputs": [
    {
     "data": {
      "text/plain": [
       "(32, 89)"
      ]
     },
     "execution_count": 39,
     "metadata": {},
     "output_type": "execute_result"
    }
   ],
   "source": [
    "score[2:4]"
   ]
  },
  {
   "cell_type": "code",
   "execution_count": 40,
   "id": "03978f20",
   "metadata": {},
   "outputs": [
    {
     "data": {
      "text/plain": [
       "(45, 56, 32, 89, 54)"
      ]
     },
     "execution_count": 40,
     "metadata": {},
     "output_type": "execute_result"
    }
   ],
   "source": [
    "score[:-10]"
   ]
  },
  {
   "cell_type": "code",
   "execution_count": 41,
   "id": "2584bd2e",
   "metadata": {},
   "outputs": [
    {
     "ename": "TypeError",
     "evalue": "'tuple' object does not support item assignment",
     "output_type": "error",
     "traceback": [
      "\u001b[1;31m---------------------------------------------------------------------------\u001b[0m",
      "\u001b[1;31mTypeError\u001b[0m                                 Traceback (most recent call last)",
      "\u001b[1;32m<ipython-input-41-0ed84a1fb792>\u001b[0m in \u001b[0;36m<module>\u001b[1;34m\u001b[0m\n\u001b[1;32m----> 1\u001b[1;33m \u001b[0mscore\u001b[0m\u001b[1;33m[\u001b[0m\u001b[1;36m1\u001b[0m\u001b[1;33m]\u001b[0m\u001b[1;33m=\u001b[0m\u001b[1;36m12\u001b[0m\u001b[1;33m\u001b[0m\u001b[1;33m\u001b[0m\u001b[0m\n\u001b[0m",
      "\u001b[1;31mTypeError\u001b[0m: 'tuple' object does not support item assignment"
     ]
    }
   ],
   "source": [
    "score[1]=12\n",
    "# not mutable"
   ]
  },
  {
   "cell_type": "markdown",
   "id": "e46130ba",
   "metadata": {},
   "source": [
    "## 4) Dictionary--- Key:Value pair\n",
    "#### 2D\n",
    "#### Heterogenous\n",
    "#### Mutable"
   ]
  },
  {
   "cell_type": "code",
   "execution_count": 42,
   "id": "7f81a3e4",
   "metadata": {},
   "outputs": [
    {
     "data": {
      "text/plain": [
       "{}"
      ]
     },
     "execution_count": 42,
     "metadata": {},
     "output_type": "execute_result"
    }
   ],
   "source": [
    "empty_dict = {}\n",
    "empty_dict"
   ]
  },
  {
   "cell_type": "code",
   "execution_count": 43,
   "id": "0b16f16d",
   "metadata": {},
   "outputs": [
    {
     "data": {
      "text/plain": [
       "dict"
      ]
     },
     "execution_count": 43,
     "metadata": {},
     "output_type": "execute_result"
    }
   ],
   "source": [
    "type(empty_dict)"
   ]
  },
  {
   "cell_type": "code",
   "execution_count": 2,
   "id": "70248ed4",
   "metadata": {},
   "outputs": [],
   "source": [
    "dictionary = {\"milk\" : \"5litre\",\n",
    "             \"almonds\": \"2kg\",\n",
    "             \"banana\": \"3kg\",\n",
    "             \"milk\": 6}"
   ]
  },
  {
   "cell_type": "code",
   "execution_count": 45,
   "id": "d6a29b72",
   "metadata": {},
   "outputs": [
    {
     "data": {
      "text/plain": [
       "{'milk': 6, 'almonds': '2kg', 'banana': '3kg'}"
      ]
     },
     "execution_count": 45,
     "metadata": {},
     "output_type": "execute_result"
    }
   ],
   "source": [
    "dictionary"
   ]
  },
  {
   "cell_type": "code",
   "execution_count": 49,
   "id": "3e3404b1",
   "metadata": {},
   "outputs": [],
   "source": [
    "dictionary.update({'milk': 7})"
   ]
  },
  {
   "cell_type": "code",
   "execution_count": 51,
   "id": "ec78ab7e",
   "metadata": {},
   "outputs": [
    {
     "data": {
      "text/plain": [
       "{'milk': 7, 'almonds': '2kg', 'banana': '3kg'}"
      ]
     },
     "execution_count": 51,
     "metadata": {},
     "output_type": "execute_result"
    }
   ],
   "source": [
    "dictionary"
   ]
  },
  {
   "cell_type": "code",
   "execution_count": 5,
   "id": "041f13c0",
   "metadata": {},
   "outputs": [],
   "source": [
    "dictionary.update({\"anna\": \"manna\"})"
   ]
  },
  {
   "cell_type": "code",
   "execution_count": 6,
   "id": "473c5325",
   "metadata": {},
   "outputs": [
    {
     "data": {
      "text/plain": [
       "{'milk': 6, 'almonds': '2kg', 'banana': '3kg', 'anna': 'manna'}"
      ]
     },
     "execution_count": 6,
     "metadata": {},
     "output_type": "execute_result"
    }
   ],
   "source": [
    "dictionary"
   ]
  },
  {
   "cell_type": "code",
   "execution_count": null,
   "id": "bb541f00",
   "metadata": {},
   "outputs": [],
   "source": []
  }
 ],
 "metadata": {
  "kernelspec": {
   "display_name": "Python 3",
   "language": "python",
   "name": "python3"
  },
  "language_info": {
   "codemirror_mode": {
    "name": "ipython",
    "version": 3
   },
   "file_extension": ".py",
   "mimetype": "text/x-python",
   "name": "python",
   "nbconvert_exporter": "python",
   "pygments_lexer": "ipython3",
   "version": "3.8.8"
  }
 },
 "nbformat": 4,
 "nbformat_minor": 5
}
