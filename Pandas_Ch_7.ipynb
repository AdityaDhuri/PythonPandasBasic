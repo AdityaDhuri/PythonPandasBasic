{
 "cells": [
  {
   "cell_type": "markdown",
   "id": "c76a939c",
   "metadata": {},
   "source": [
    "# : Inferential Statistics\n",
    "#### Get the piece of the data- analyze the data- apply these inferential statistics and whatever the results we get- applied to the entire population- That's what we call it as inferential statistics"
   ]
  },
  {
   "cell_type": "markdown",
   "id": "ffefd94a",
   "metadata": {},
   "source": [
    "### : Division of Inferential Statistics\n",
    "#### 1] Confidence Interval\n",
    "#### 2] Hypothesis Testing\n",
    "#### 3] Statistical Tests"
   ]
  },
  {
   "cell_type": "markdown",
   "id": "cbd85216",
   "metadata": {},
   "source": [
    "## 1] Confidence Interval\n",
    "#### The range is called interval. The probability associated with this interval we call it as confidence.\n",
    "#### Therefore it is the range of values to be associated with the likelihood/probability/confidence."
   ]
  },
  {
   "cell_type": "markdown",
   "id": "04121733",
   "metadata": {},
   "source": [
    "### Q] To calculate T-value for confidence interval 95% and n=140"
   ]
  },
  {
   "cell_type": "code",
   "execution_count": 1,
   "id": "7a394cb6",
   "metadata": {},
   "outputs": [
    {
     "data": {
      "text/plain": [
       "1.977177724476122"
      ]
     },
     "execution_count": 1,
     "metadata": {},
     "output_type": "execute_result"
    }
   ],
   "source": [
    "from scipy import stats\n",
    "stats.t.ppf(0.975, df=139) # ppf(percent point function)\n",
    "#(1-alpha)=95%   i.e alpha = 5% , alpha/2 = 2.5% ; (95 + 2.5 = 97.5%) i.e 0.975 and df =(n-1) i.e (140 - 1) = 139"
   ]
  },
  {
   "cell_type": "markdown",
   "id": "52e935c2",
   "metadata": {},
   "source": [
    "## 2] Hypothesis Testing\n",
    "#### Hypothesis : just an intution.\n",
    "#### Null Hypothesis(Ho) : No change/ The current process.\n",
    "#### Alternate hypothesis(Ha) : Statement of change/ alternate process to be replaced.\n",
    "#### p-value : is the metric to measure the confidence.\n",
    "#### Assumption of p-value : It tries to prove that the Null Hypothesis is True. "
   ]
  },
  {
   "cell_type": "markdown",
   "id": "a7da88a3",
   "metadata": {},
   "source": [
    "### Q] t-test for 1-Sample"
   ]
  },
  {
   "cell_type": "code",
   "execution_count": 2,
   "id": "0da807f5",
   "metadata": {},
   "outputs": [
    {
     "data": {
      "text/plain": [
       "Ttest_1sampResult(statistic=0.0, pvalue=1.0)"
      ]
     },
     "execution_count": 2,
     "metadata": {},
     "output_type": "execute_result"
    }
   ],
   "source": [
    "# this code will give value of both t-value and p-value\n",
    "import pandas as pd\n",
    "\n",
    "data = pd.Series([2,4,6,8,10]) #this is sample 1\n",
    "\n",
    "stats.ttest_1samp(data,data.mean())\n",
    "#statistics is the t-value and p-value(of both sides, if we want for 1-side go for pvalue/2)"
   ]
  },
  {
   "cell_type": "markdown",
   "id": "2eb8ec9f",
   "metadata": {},
   "source": [
    "### Q] t-test for 2-Sample"
   ]
  },
  {
   "cell_type": "code",
   "execution_count": 3,
   "id": "8c21a579",
   "metadata": {},
   "outputs": [
    {
     "data": {
      "text/plain": [
       "Ttest_indResult(statistic=-0.13592462803701275, pvalue=0.8941344509861002)"
      ]
     },
     "execution_count": 3,
     "metadata": {},
     "output_type": "execute_result"
    }
   ],
   "source": [
    "Control = pd.Series([20,40,56,78,4,5,95]) # sample 1\n",
    "Treat = pd.Series([45,56,89,12,23,78,12]) # Sample 2\n",
    "stats.ttest_ind(Control, Treat) # ind = independent"
   ]
  },
  {
   "cell_type": "markdown",
   "id": "bba63cb8",
   "metadata": {},
   "source": [
    "## 3] Statistical Test\n",
    "#### A] 1-Sample (Dependent) ==> a) t-test (Mean/Avg)  b) Proportion (%) c) Paired (previous comparing)\n",
    "#### B] 2-Sample (Independent) ==> a) t-test (Mean/Avg) b) Proportion (%)\n",
    "#### C] ANOVA (Independent)\n",
    "#### D] Chi-Square test\n",
    "#### E] Regression"
   ]
  },
  {
   "cell_type": "markdown",
   "id": "afc6135e",
   "metadata": {},
   "source": [
    "## D] Chi-Square Test\n",
    "#### Purpose to find if there is any association between 2 qualitative feature"
   ]
  },
  {
   "cell_type": "code",
   "execution_count": 4,
   "id": "e5ce6ebc",
   "metadata": {},
   "outputs": [],
   "source": [
    "import seaborn as sns\n",
    "import pandas as pd\n",
    "import scipy.stats as stats"
   ]
  },
  {
   "cell_type": "code",
   "execution_count": 5,
   "id": "070acfb4",
   "metadata": {},
   "outputs": [
    {
     "data": {
      "text/plain": [
       "['anagrams',\n",
       " 'anscombe',\n",
       " 'attention',\n",
       " 'brain_networks',\n",
       " 'car_crashes',\n",
       " 'diamonds',\n",
       " 'dots',\n",
       " 'exercise',\n",
       " 'flights',\n",
       " 'fmri',\n",
       " 'gammas',\n",
       " 'geyser',\n",
       " 'iris',\n",
       " 'mpg',\n",
       " 'penguins',\n",
       " 'planets',\n",
       " 'tips',\n",
       " 'titanic']"
      ]
     },
     "execution_count": 5,
     "metadata": {},
     "output_type": "execute_result"
    }
   ],
   "source": [
    "sns.get_dataset_names()\n",
    "#make sure internet is working to load the dataset"
   ]
  },
  {
   "cell_type": "code",
   "execution_count": 6,
   "id": "8dfe5c9a",
   "metadata": {},
   "outputs": [
    {
     "data": {
      "text/html": [
       "<div>\n",
       "<style scoped>\n",
       "    .dataframe tbody tr th:only-of-type {\n",
       "        vertical-align: middle;\n",
       "    }\n",
       "\n",
       "    .dataframe tbody tr th {\n",
       "        vertical-align: top;\n",
       "    }\n",
       "\n",
       "    .dataframe thead th {\n",
       "        text-align: right;\n",
       "    }\n",
       "</style>\n",
       "<table border=\"1\" class=\"dataframe\">\n",
       "  <thead>\n",
       "    <tr style=\"text-align: right;\">\n",
       "      <th></th>\n",
       "      <th>total_bill</th>\n",
       "      <th>tip</th>\n",
       "      <th>sex</th>\n",
       "      <th>smoker</th>\n",
       "      <th>day</th>\n",
       "      <th>time</th>\n",
       "      <th>size</th>\n",
       "    </tr>\n",
       "  </thead>\n",
       "  <tbody>\n",
       "    <tr>\n",
       "      <th>0</th>\n",
       "      <td>16.99</td>\n",
       "      <td>1.01</td>\n",
       "      <td>Female</td>\n",
       "      <td>No</td>\n",
       "      <td>Sun</td>\n",
       "      <td>Dinner</td>\n",
       "      <td>2</td>\n",
       "    </tr>\n",
       "    <tr>\n",
       "      <th>1</th>\n",
       "      <td>10.34</td>\n",
       "      <td>1.66</td>\n",
       "      <td>Male</td>\n",
       "      <td>No</td>\n",
       "      <td>Sun</td>\n",
       "      <td>Dinner</td>\n",
       "      <td>3</td>\n",
       "    </tr>\n",
       "    <tr>\n",
       "      <th>2</th>\n",
       "      <td>21.01</td>\n",
       "      <td>3.50</td>\n",
       "      <td>Male</td>\n",
       "      <td>No</td>\n",
       "      <td>Sun</td>\n",
       "      <td>Dinner</td>\n",
       "      <td>3</td>\n",
       "    </tr>\n",
       "    <tr>\n",
       "      <th>3</th>\n",
       "      <td>23.68</td>\n",
       "      <td>3.31</td>\n",
       "      <td>Male</td>\n",
       "      <td>No</td>\n",
       "      <td>Sun</td>\n",
       "      <td>Dinner</td>\n",
       "      <td>2</td>\n",
       "    </tr>\n",
       "    <tr>\n",
       "      <th>4</th>\n",
       "      <td>24.59</td>\n",
       "      <td>3.61</td>\n",
       "      <td>Female</td>\n",
       "      <td>No</td>\n",
       "      <td>Sun</td>\n",
       "      <td>Dinner</td>\n",
       "      <td>4</td>\n",
       "    </tr>\n",
       "    <tr>\n",
       "      <th>...</th>\n",
       "      <td>...</td>\n",
       "      <td>...</td>\n",
       "      <td>...</td>\n",
       "      <td>...</td>\n",
       "      <td>...</td>\n",
       "      <td>...</td>\n",
       "      <td>...</td>\n",
       "    </tr>\n",
       "    <tr>\n",
       "      <th>239</th>\n",
       "      <td>29.03</td>\n",
       "      <td>5.92</td>\n",
       "      <td>Male</td>\n",
       "      <td>No</td>\n",
       "      <td>Sat</td>\n",
       "      <td>Dinner</td>\n",
       "      <td>3</td>\n",
       "    </tr>\n",
       "    <tr>\n",
       "      <th>240</th>\n",
       "      <td>27.18</td>\n",
       "      <td>2.00</td>\n",
       "      <td>Female</td>\n",
       "      <td>Yes</td>\n",
       "      <td>Sat</td>\n",
       "      <td>Dinner</td>\n",
       "      <td>2</td>\n",
       "    </tr>\n",
       "    <tr>\n",
       "      <th>241</th>\n",
       "      <td>22.67</td>\n",
       "      <td>2.00</td>\n",
       "      <td>Male</td>\n",
       "      <td>Yes</td>\n",
       "      <td>Sat</td>\n",
       "      <td>Dinner</td>\n",
       "      <td>2</td>\n",
       "    </tr>\n",
       "    <tr>\n",
       "      <th>242</th>\n",
       "      <td>17.82</td>\n",
       "      <td>1.75</td>\n",
       "      <td>Male</td>\n",
       "      <td>No</td>\n",
       "      <td>Sat</td>\n",
       "      <td>Dinner</td>\n",
       "      <td>2</td>\n",
       "    </tr>\n",
       "    <tr>\n",
       "      <th>243</th>\n",
       "      <td>18.78</td>\n",
       "      <td>3.00</td>\n",
       "      <td>Female</td>\n",
       "      <td>No</td>\n",
       "      <td>Thur</td>\n",
       "      <td>Dinner</td>\n",
       "      <td>2</td>\n",
       "    </tr>\n",
       "  </tbody>\n",
       "</table>\n",
       "<p>244 rows × 7 columns</p>\n",
       "</div>"
      ],
      "text/plain": [
       "     total_bill   tip     sex smoker   day    time  size\n",
       "0         16.99  1.01  Female     No   Sun  Dinner     2\n",
       "1         10.34  1.66    Male     No   Sun  Dinner     3\n",
       "2         21.01  3.50    Male     No   Sun  Dinner     3\n",
       "3         23.68  3.31    Male     No   Sun  Dinner     2\n",
       "4         24.59  3.61  Female     No   Sun  Dinner     4\n",
       "..          ...   ...     ...    ...   ...     ...   ...\n",
       "239       29.03  5.92    Male     No   Sat  Dinner     3\n",
       "240       27.18  2.00  Female    Yes   Sat  Dinner     2\n",
       "241       22.67  2.00    Male    Yes   Sat  Dinner     2\n",
       "242       17.82  1.75    Male     No   Sat  Dinner     2\n",
       "243       18.78  3.00  Female     No  Thur  Dinner     2\n",
       "\n",
       "[244 rows x 7 columns]"
      ]
     },
     "execution_count": 6,
     "metadata": {},
     "output_type": "execute_result"
    }
   ],
   "source": [
    "tips = sns.load_dataset('tips')\n",
    "tips"
   ]
  },
  {
   "cell_type": "code",
   "execution_count": 7,
   "id": "f75f6e7c",
   "metadata": {},
   "outputs": [
    {
     "data": {
      "text/html": [
       "<div>\n",
       "<style scoped>\n",
       "    .dataframe tbody tr th:only-of-type {\n",
       "        vertical-align: middle;\n",
       "    }\n",
       "\n",
       "    .dataframe tbody tr th {\n",
       "        vertical-align: top;\n",
       "    }\n",
       "\n",
       "    .dataframe thead th {\n",
       "        text-align: right;\n",
       "    }\n",
       "</style>\n",
       "<table border=\"1\" class=\"dataframe\">\n",
       "  <thead>\n",
       "    <tr style=\"text-align: right;\">\n",
       "      <th></th>\n",
       "      <th>total_bill</th>\n",
       "      <th>tip</th>\n",
       "      <th>size</th>\n",
       "    </tr>\n",
       "  </thead>\n",
       "  <tbody>\n",
       "    <tr>\n",
       "      <th>count</th>\n",
       "      <td>244.000000</td>\n",
       "      <td>244.000000</td>\n",
       "      <td>244.000000</td>\n",
       "    </tr>\n",
       "    <tr>\n",
       "      <th>mean</th>\n",
       "      <td>19.785943</td>\n",
       "      <td>2.998279</td>\n",
       "      <td>2.569672</td>\n",
       "    </tr>\n",
       "    <tr>\n",
       "      <th>std</th>\n",
       "      <td>8.902412</td>\n",
       "      <td>1.383638</td>\n",
       "      <td>0.951100</td>\n",
       "    </tr>\n",
       "    <tr>\n",
       "      <th>min</th>\n",
       "      <td>3.070000</td>\n",
       "      <td>1.000000</td>\n",
       "      <td>1.000000</td>\n",
       "    </tr>\n",
       "    <tr>\n",
       "      <th>25%</th>\n",
       "      <td>13.347500</td>\n",
       "      <td>2.000000</td>\n",
       "      <td>2.000000</td>\n",
       "    </tr>\n",
       "    <tr>\n",
       "      <th>50%</th>\n",
       "      <td>17.795000</td>\n",
       "      <td>2.900000</td>\n",
       "      <td>2.000000</td>\n",
       "    </tr>\n",
       "    <tr>\n",
       "      <th>75%</th>\n",
       "      <td>24.127500</td>\n",
       "      <td>3.562500</td>\n",
       "      <td>3.000000</td>\n",
       "    </tr>\n",
       "    <tr>\n",
       "      <th>max</th>\n",
       "      <td>50.810000</td>\n",
       "      <td>10.000000</td>\n",
       "      <td>6.000000</td>\n",
       "    </tr>\n",
       "  </tbody>\n",
       "</table>\n",
       "</div>"
      ],
      "text/plain": [
       "       total_bill         tip        size\n",
       "count  244.000000  244.000000  244.000000\n",
       "mean    19.785943    2.998279    2.569672\n",
       "std      8.902412    1.383638    0.951100\n",
       "min      3.070000    1.000000    1.000000\n",
       "25%     13.347500    2.000000    2.000000\n",
       "50%     17.795000    2.900000    2.000000\n",
       "75%     24.127500    3.562500    3.000000\n",
       "max     50.810000   10.000000    6.000000"
      ]
     },
     "execution_count": 7,
     "metadata": {},
     "output_type": "execute_result"
    }
   ],
   "source": [
    "tips.describe()"
   ]
  },
  {
   "cell_type": "code",
   "execution_count": 8,
   "id": "27ef9527",
   "metadata": {},
   "outputs": [
    {
     "data": {
      "text/html": [
       "<div>\n",
       "<style scoped>\n",
       "    .dataframe tbody tr th:only-of-type {\n",
       "        vertical-align: middle;\n",
       "    }\n",
       "\n",
       "    .dataframe tbody tr th {\n",
       "        vertical-align: top;\n",
       "    }\n",
       "\n",
       "    .dataframe thead th {\n",
       "        text-align: right;\n",
       "    }\n",
       "</style>\n",
       "<table border=\"1\" class=\"dataframe\">\n",
       "  <thead>\n",
       "    <tr style=\"text-align: right;\">\n",
       "      <th></th>\n",
       "      <th>total_bill</th>\n",
       "      <th>tip</th>\n",
       "      <th>size</th>\n",
       "    </tr>\n",
       "    <tr>\n",
       "      <th>smoker</th>\n",
       "      <th></th>\n",
       "      <th></th>\n",
       "      <th></th>\n",
       "    </tr>\n",
       "  </thead>\n",
       "  <tbody>\n",
       "    <tr>\n",
       "      <th>Yes</th>\n",
       "      <td>20.756344</td>\n",
       "      <td>3.008710</td>\n",
       "      <td>2.408602</td>\n",
       "    </tr>\n",
       "    <tr>\n",
       "      <th>No</th>\n",
       "      <td>19.188278</td>\n",
       "      <td>2.991854</td>\n",
       "      <td>2.668874</td>\n",
       "    </tr>\n",
       "  </tbody>\n",
       "</table>\n",
       "</div>"
      ],
      "text/plain": [
       "        total_bill       tip      size\n",
       "smoker                                \n",
       "Yes      20.756344  3.008710  2.408602\n",
       "No       19.188278  2.991854  2.668874"
      ]
     },
     "execution_count": 8,
     "metadata": {},
     "output_type": "execute_result"
    }
   ],
   "source": [
    "tips.groupby('smoker').mean()"
   ]
  },
  {
   "cell_type": "code",
   "execution_count": 9,
   "id": "a2298d21",
   "metadata": {},
   "outputs": [
    {
     "data": {
      "text/html": [
       "<div>\n",
       "<style scoped>\n",
       "    .dataframe tbody tr th:only-of-type {\n",
       "        vertical-align: middle;\n",
       "    }\n",
       "\n",
       "    .dataframe tbody tr th {\n",
       "        vertical-align: top;\n",
       "    }\n",
       "\n",
       "    .dataframe thead th {\n",
       "        text-align: right;\n",
       "    }\n",
       "</style>\n",
       "<table border=\"1\" class=\"dataframe\">\n",
       "  <thead>\n",
       "    <tr style=\"text-align: right;\">\n",
       "      <th></th>\n",
       "      <th>total_bill</th>\n",
       "      <th>tip</th>\n",
       "      <th>size</th>\n",
       "    </tr>\n",
       "    <tr>\n",
       "      <th>day</th>\n",
       "      <th></th>\n",
       "      <th></th>\n",
       "      <th></th>\n",
       "    </tr>\n",
       "  </thead>\n",
       "  <tbody>\n",
       "    <tr>\n",
       "      <th>Thur</th>\n",
       "      <td>17.682742</td>\n",
       "      <td>2.771452</td>\n",
       "      <td>2.451613</td>\n",
       "    </tr>\n",
       "    <tr>\n",
       "      <th>Fri</th>\n",
       "      <td>17.151579</td>\n",
       "      <td>2.734737</td>\n",
       "      <td>2.105263</td>\n",
       "    </tr>\n",
       "    <tr>\n",
       "      <th>Sat</th>\n",
       "      <td>20.441379</td>\n",
       "      <td>2.993103</td>\n",
       "      <td>2.517241</td>\n",
       "    </tr>\n",
       "    <tr>\n",
       "      <th>Sun</th>\n",
       "      <td>21.410000</td>\n",
       "      <td>3.255132</td>\n",
       "      <td>2.842105</td>\n",
       "    </tr>\n",
       "  </tbody>\n",
       "</table>\n",
       "</div>"
      ],
      "text/plain": [
       "      total_bill       tip      size\n",
       "day                                 \n",
       "Thur   17.682742  2.771452  2.451613\n",
       "Fri    17.151579  2.734737  2.105263\n",
       "Sat    20.441379  2.993103  2.517241\n",
       "Sun    21.410000  3.255132  2.842105"
      ]
     },
     "execution_count": 9,
     "metadata": {},
     "output_type": "execute_result"
    }
   ],
   "source": [
    "tips.groupby('day').mean()"
   ]
  },
  {
   "cell_type": "code",
   "execution_count": 10,
   "id": "9d7f11fc",
   "metadata": {},
   "outputs": [
    {
     "data": {
      "text/html": [
       "<div>\n",
       "<style scoped>\n",
       "    .dataframe tbody tr th:only-of-type {\n",
       "        vertical-align: middle;\n",
       "    }\n",
       "\n",
       "    .dataframe tbody tr th {\n",
       "        vertical-align: top;\n",
       "    }\n",
       "\n",
       "    .dataframe thead th {\n",
       "        text-align: right;\n",
       "    }\n",
       "</style>\n",
       "<table border=\"1\" class=\"dataframe\">\n",
       "  <thead>\n",
       "    <tr style=\"text-align: right;\">\n",
       "      <th></th>\n",
       "      <th>total_bill</th>\n",
       "      <th>tip</th>\n",
       "      <th>sex</th>\n",
       "      <th>smoker</th>\n",
       "      <th>day</th>\n",
       "      <th>time</th>\n",
       "      <th>size</th>\n",
       "    </tr>\n",
       "  </thead>\n",
       "  <tbody>\n",
       "    <tr>\n",
       "      <th>125</th>\n",
       "      <td>29.80</td>\n",
       "      <td>4.2</td>\n",
       "      <td>Female</td>\n",
       "      <td>No</td>\n",
       "      <td>Thur</td>\n",
       "      <td>Lunch</td>\n",
       "      <td>6</td>\n",
       "    </tr>\n",
       "    <tr>\n",
       "      <th>141</th>\n",
       "      <td>34.30</td>\n",
       "      <td>6.7</td>\n",
       "      <td>Male</td>\n",
       "      <td>No</td>\n",
       "      <td>Thur</td>\n",
       "      <td>Lunch</td>\n",
       "      <td>6</td>\n",
       "    </tr>\n",
       "    <tr>\n",
       "      <th>143</th>\n",
       "      <td>27.05</td>\n",
       "      <td>5.0</td>\n",
       "      <td>Female</td>\n",
       "      <td>No</td>\n",
       "      <td>Thur</td>\n",
       "      <td>Lunch</td>\n",
       "      <td>6</td>\n",
       "    </tr>\n",
       "    <tr>\n",
       "      <th>156</th>\n",
       "      <td>48.17</td>\n",
       "      <td>5.0</td>\n",
       "      <td>Male</td>\n",
       "      <td>No</td>\n",
       "      <td>Sun</td>\n",
       "      <td>Dinner</td>\n",
       "      <td>6</td>\n",
       "    </tr>\n",
       "  </tbody>\n",
       "</table>\n",
       "</div>"
      ],
      "text/plain": [
       "     total_bill  tip     sex smoker   day    time  size\n",
       "125       29.80  4.2  Female     No  Thur   Lunch     6\n",
       "141       34.30  6.7    Male     No  Thur   Lunch     6\n",
       "143       27.05  5.0  Female     No  Thur   Lunch     6\n",
       "156       48.17  5.0    Male     No   Sun  Dinner     6"
      ]
     },
     "execution_count": 10,
     "metadata": {},
     "output_type": "execute_result"
    }
   ],
   "source": [
    "tips[tips['size']==tips['size'].max()]"
   ]
  },
  {
   "cell_type": "code",
   "execution_count": 11,
   "id": "0bd5aee0",
   "metadata": {},
   "outputs": [
    {
     "data": {
      "text/plain": [
       "smoker  day \n",
       "Yes     Sat     42\n",
       "        Sun     19\n",
       "        Thur    17\n",
       "        Fri     15\n",
       "No      Sun     57\n",
       "        Thur    45\n",
       "        Sat     45\n",
       "        Fri      4\n",
       "Name: day, dtype: int64"
      ]
     },
     "execution_count": 11,
     "metadata": {},
     "output_type": "execute_result"
    }
   ],
   "source": [
    "tips.groupby('smoker')['day'].value_counts()"
   ]
  },
  {
   "cell_type": "code",
   "execution_count": 12,
   "id": "bcf88c54",
   "metadata": {},
   "outputs": [
    {
     "data": {
      "text/plain": [
       "['Sun', 'Sat', 'Thur', 'Fri']\n",
       "Categories (4, object): ['Sun', 'Sat', 'Thur', 'Fri']"
      ]
     },
     "execution_count": 12,
     "metadata": {},
     "output_type": "execute_result"
    }
   ],
   "source": [
    "tips.day.unique()"
   ]
  },
  {
   "cell_type": "code",
   "execution_count": 13,
   "id": "c21be60f",
   "metadata": {},
   "outputs": [
    {
     "data": {
      "text/plain": [
       "total_bill    229\n",
       "tip           123\n",
       "sex             2\n",
       "smoker          2\n",
       "day             4\n",
       "time            2\n",
       "size            6\n",
       "dtype: int64"
      ]
     },
     "execution_count": 13,
     "metadata": {},
     "output_type": "execute_result"
    }
   ],
   "source": [
    "tips.nunique()"
   ]
  },
  {
   "cell_type": "code",
   "execution_count": 14,
   "id": "2a4d8210",
   "metadata": {},
   "outputs": [
    {
     "data": {
      "text/html": [
       "<div>\n",
       "<style scoped>\n",
       "    .dataframe tbody tr th:only-of-type {\n",
       "        vertical-align: middle;\n",
       "    }\n",
       "\n",
       "    .dataframe tbody tr th {\n",
       "        vertical-align: top;\n",
       "    }\n",
       "\n",
       "    .dataframe thead th {\n",
       "        text-align: right;\n",
       "    }\n",
       "</style>\n",
       "<table border=\"1\" class=\"dataframe\">\n",
       "  <thead>\n",
       "    <tr style=\"text-align: right;\">\n",
       "      <th>smoker</th>\n",
       "      <th>Yes</th>\n",
       "      <th>No</th>\n",
       "    </tr>\n",
       "    <tr>\n",
       "      <th>sex</th>\n",
       "      <th></th>\n",
       "      <th></th>\n",
       "    </tr>\n",
       "  </thead>\n",
       "  <tbody>\n",
       "    <tr>\n",
       "      <th>Male</th>\n",
       "      <td>60</td>\n",
       "      <td>97</td>\n",
       "    </tr>\n",
       "    <tr>\n",
       "      <th>Female</th>\n",
       "      <td>33</td>\n",
       "      <td>54</td>\n",
       "    </tr>\n",
       "  </tbody>\n",
       "</table>\n",
       "</div>"
      ],
      "text/plain": [
       "smoker  Yes  No\n",
       "sex            \n",
       "Male     60  97\n",
       "Female   33  54"
      ]
     },
     "execution_count": 14,
     "metadata": {},
     "output_type": "execute_result"
    }
   ],
   "source": [
    "smoker_data =  pd.crosstab(tips.sex, tips.smoker)\n",
    "smoker_data"
   ]
  },
  {
   "cell_type": "code",
   "execution_count": 15,
   "id": "bd0edb37",
   "metadata": {},
   "outputs": [
    {
     "data": {
      "text/plain": [
       "(0.008763290531773594,\n",
       " 0.925417020494423,\n",
       " 1,\n",
       " array([[59.84016393, 97.15983607],\n",
       "        [33.15983607, 53.84016393]]))"
      ]
     },
     "execution_count": 15,
     "metadata": {},
     "output_type": "execute_result"
    }
   ],
   "source": [
    "stats.chi2_contingency(smoker_data)"
   ]
  },
  {
   "cell_type": "code",
   "execution_count": 16,
   "id": "ec12eef3",
   "metadata": {},
   "outputs": [],
   "source": [
    "# NULL hypothesis(Ho): There is no association between the smoker and sex.\n",
    "# Alternate hypothesis(Ha): There is association between the smoker and sex.\n",
    "# pval <0.05 we reject Ho\n",
    "# df = (n-1)(n1 -1) where n= total no. of row n1 = total no of column"
   ]
  },
  {
   "cell_type": "code",
   "execution_count": 17,
   "id": "088d1ef7",
   "metadata": {},
   "outputs": [
    {
     "name": "stdout",
     "output_type": "stream",
     "text": [
      "Ch-squared value: 0.008763290531773594\n",
      "Degree of Freedom: 0.925417020494423\n",
      "Expected value: 1.\n"
     ]
    }
   ],
   "source": [
    "chi_value, pval, df, expected_value = stats.chi2_contingency(smoker_data)\n",
    "print('Ch-squared value: {}\\nDegree of Freedom: {}\\nExpected value: {}.'.format(chi_value, pval, df, expected_value))"
   ]
  },
  {
   "cell_type": "code",
   "execution_count": 18,
   "id": "93b43ac8",
   "metadata": {},
   "outputs": [
    {
     "data": {
      "text/html": [
       "<div>\n",
       "<style scoped>\n",
       "    .dataframe tbody tr th:only-of-type {\n",
       "        vertical-align: middle;\n",
       "    }\n",
       "\n",
       "    .dataframe tbody tr th {\n",
       "        vertical-align: top;\n",
       "    }\n",
       "\n",
       "    .dataframe thead th {\n",
       "        text-align: right;\n",
       "    }\n",
       "</style>\n",
       "<table border=\"1\" class=\"dataframe\">\n",
       "  <thead>\n",
       "    <tr style=\"text-align: right;\">\n",
       "      <th>time</th>\n",
       "      <th>Lunch</th>\n",
       "      <th>Dinner</th>\n",
       "    </tr>\n",
       "    <tr>\n",
       "      <th>sex</th>\n",
       "      <th></th>\n",
       "      <th></th>\n",
       "    </tr>\n",
       "  </thead>\n",
       "  <tbody>\n",
       "    <tr>\n",
       "      <th>Male</th>\n",
       "      <td>33</td>\n",
       "      <td>124</td>\n",
       "    </tr>\n",
       "    <tr>\n",
       "      <th>Female</th>\n",
       "      <td>35</td>\n",
       "      <td>52</td>\n",
       "    </tr>\n",
       "  </tbody>\n",
       "</table>\n",
       "</div>"
      ],
      "text/plain": [
       "time    Lunch  Dinner\n",
       "sex                  \n",
       "Male       33     124\n",
       "Female     35      52"
      ]
     },
     "execution_count": 18,
     "metadata": {},
     "output_type": "execute_result"
    }
   ],
   "source": [
    "sex_time = pd.crosstab(tips.sex, tips.time)\n",
    "sex_time"
   ]
  },
  {
   "cell_type": "code",
   "execution_count": 19,
   "id": "3656324d",
   "metadata": {},
   "outputs": [
    {
     "data": {
      "text/plain": [
       "(9.343808982970623,\n",
       " 0.002237400118075248,\n",
       " 1,\n",
       " array([[ 43.75409836, 113.24590164],\n",
       "        [ 24.24590164,  62.75409836]]))"
      ]
     },
     "execution_count": 19,
     "metadata": {},
     "output_type": "execute_result"
    }
   ],
   "source": [
    "stats.chi2_contingency(sex_time)"
   ]
  },
  {
   "cell_type": "markdown",
   "id": "7d195b3c",
   "metadata": {},
   "source": [
    "## A] & B] T-test\n",
    "#### Purpose to find if there is any significance difference between two groups\n",
    "* 1 sample t-test\n",
    "* 2 sample t-test\n",
    "* Paired t-test"
   ]
  },
  {
   "cell_type": "markdown",
   "id": "330f0c70",
   "metadata": {},
   "source": [
    "### * 1-Sample T-test"
   ]
  },
  {
   "cell_type": "code",
   "execution_count": 20,
   "id": "c0b27616",
   "metadata": {},
   "outputs": [
    {
     "data": {
      "text/plain": [
       "15"
      ]
     },
     "execution_count": 20,
     "metadata": {},
     "output_type": "execute_result"
    }
   ],
   "source": [
    "test_scores = [60,40,45,78,15,46,79,60,56,89,45,86,79,48,50]\n",
    "len(test_scores)"
   ]
  },
  {
   "cell_type": "code",
   "execution_count": 21,
   "id": "23ff8f5b",
   "metadata": {},
   "outputs": [],
   "source": [
    "import numpy as np\n",
    "from scipy import stats"
   ]
  },
  {
   "cell_type": "code",
   "execution_count": 22,
   "id": "0b0fb61c",
   "metadata": {},
   "outputs": [
    {
     "data": {
      "text/plain": [
       "58.4"
      ]
     },
     "execution_count": 22,
     "metadata": {},
     "output_type": "execute_result"
    }
   ],
   "source": [
    "np.mean(test_scores) # population avg score"
   ]
  },
  {
   "cell_type": "code",
   "execution_count": 23,
   "id": "b660689d",
   "metadata": {},
   "outputs": [
    {
     "data": {
      "text/plain": [
       "array([86, 50, 56, 45, 79, 56, 45, 79])"
      ]
     },
     "execution_count": 23,
     "metadata": {},
     "output_type": "execute_result"
    }
   ],
   "source": [
    "random_test_score = np.random.choice(test_scores, 8)\n",
    "random_test_score"
   ]
  },
  {
   "cell_type": "code",
   "execution_count": 24,
   "id": "e07c94be",
   "metadata": {},
   "outputs": [
    {
     "data": {
      "text/plain": [
       "Ttest_1sampResult(statistic=0.0, pvalue=1.0)"
      ]
     },
     "execution_count": 24,
     "metadata": {},
     "output_type": "execute_result"
    }
   ],
   "source": [
    "stats.ttest_1samp(test_scores,58.4 )"
   ]
  },
  {
   "cell_type": "code",
   "execution_count": 25,
   "id": "982dcdf7",
   "metadata": {},
   "outputs": [
    {
     "name": "stdout",
     "output_type": "stream",
     "text": [
      "t_score: 0.0.\n",
      "p_value: 1.0\n"
     ]
    }
   ],
   "source": [
    "t_score, p_value = stats.ttest_1samp(test_scores,58.4 )\n",
    "print('t_score: {}.\\np_value: {}'.format(t_score, p_value))"
   ]
  },
  {
   "cell_type": "code",
   "execution_count": 26,
   "id": "b758c289",
   "metadata": {},
   "outputs": [],
   "source": [
    "# Ho : There is no significance difference in the average test_scores.\n",
    "# Ha : There is a significance difference in the average test_scores."
   ]
  },
  {
   "cell_type": "code",
   "execution_count": 27,
   "id": "22684cf6",
   "metadata": {},
   "outputs": [
    {
     "name": "stdout",
     "output_type": "stream",
     "text": [
      "We do not reject null hypothesis saying that there is no significance difference in the average test_scores.\n"
     ]
    }
   ],
   "source": [
    "if p_value<=0.05:\n",
    "    print(\"We reject the Null hypothesis(Ho) saying that there is a significance difference in the average test_scores.\")\n",
    "else:\n",
    "    print(\"We do not reject null hypothesis saying that there is no significance difference in the average test_scores.\")"
   ]
  },
  {
   "cell_type": "markdown",
   "id": "65c3104d",
   "metadata": {},
   "source": [
    "### * 2-Sample t-test"
   ]
  },
  {
   "cell_type": "code",
   "execution_count": 28,
   "id": "bfc52b79",
   "metadata": {},
   "outputs": [],
   "source": [
    "class_A = [50,80,78,98,45,86,56,89,90,60]\n",
    "class_B = [78,45,89,48,78,68,88,49,90,70]"
   ]
  },
  {
   "cell_type": "code",
   "execution_count": 29,
   "id": "9ae8575f",
   "metadata": {},
   "outputs": [],
   "source": [
    "# Ho : The avg marks of class B is greater than class A.\n",
    "# Ha : The avg marks of class B is not greater than class A."
   ]
  },
  {
   "cell_type": "code",
   "execution_count": 30,
   "id": "689f1750",
   "metadata": {},
   "outputs": [],
   "source": [
    "t_score, p_val = stats.ttest_ind(class_A,class_B)"
   ]
  },
  {
   "cell_type": "code",
   "execution_count": 31,
   "id": "289672c1",
   "metadata": {},
   "outputs": [
    {
     "name": "stdout",
     "output_type": "stream",
     "text": [
      "We do not reject the Null hypothesis saying that the avg marks of class B is greater than class A.\n"
     ]
    }
   ],
   "source": [
    "if p_val<=0.05:\n",
    "    print('We reject the Null hypothesis saying that the avg marks of class B is not greater than class A.')\n",
    "else:\n",
    "    print('We do not reject the Null hypothesis saying that the avg marks of class B is greater than class A.')"
   ]
  },
  {
   "cell_type": "code",
   "execution_count": 32,
   "id": "6880af02",
   "metadata": {},
   "outputs": [
    {
     "name": "stdout",
     "output_type": "stream",
     "text": [
      "t_score: 0.35667421873586497\n",
      "p_val: 0.7254826114574362\n"
     ]
    }
   ],
   "source": [
    "print('t_score: {}\\np_val: {}'.format(t_score, p_val))"
   ]
  },
  {
   "cell_type": "markdown",
   "id": "a52825c7",
   "metadata": {},
   "source": [
    "### * Paired T-test"
   ]
  },
  {
   "cell_type": "code",
   "execution_count": 33,
   "id": "76320533",
   "metadata": {},
   "outputs": [],
   "source": [
    "# Ho: The average weight before and after the weight loss program is same. No significance difference.\n",
    "# Ha: There is a significance difference in the weight before and after the weight loss program "
   ]
  },
  {
   "cell_type": "code",
   "execution_count": 34,
   "id": "5c573ba1",
   "metadata": {},
   "outputs": [
    {
     "name": "stdout",
     "output_type": "stream",
     "text": [
      "We reject the null hypothesis saying that there is a significance difference in the weight before and after the weight loss program\n"
     ]
    }
   ],
   "source": [
    "pre_weightloss = [140,120,150,125,90,100,120,150]\n",
    "post_weightloss = [100,90,100,80,65,75,85,110]\n",
    "\n",
    "t_score, p_val = stats.ttest_rel(pre_weightloss,post_weightloss)\n",
    "if p_val<=0.05:\n",
    "    print('We reject the null hypothesis saying that there is a significance difference in the weight before and after the weight loss program')\n",
    "else:\n",
    "    print('We do not reject the null hypothesis saying that there is a significance difference in the weight before and after the weight loss program')"
   ]
  },
  {
   "cell_type": "markdown",
   "id": "d49f8525",
   "metadata": {},
   "source": [
    "### C] ANOVA (same as 2-sample but input are more than 2 so we use anova)"
   ]
  },
  {
   "cell_type": "code",
   "execution_count": 35,
   "id": "6b566d10",
   "metadata": {},
   "outputs": [],
   "source": [
    "# Ho: The average marks of students from class c are more than class A and Class B.\n",
    "# Ha: The average marks of students from class c do not have more than class A and Class B."
   ]
  },
  {
   "cell_type": "code",
   "execution_count": 36,
   "id": "244c8241",
   "metadata": {},
   "outputs": [
    {
     "name": "stdout",
     "output_type": "stream",
     "text": [
      "6.128027099371702e-08\n",
      "We reject the null hypothesis saying that The average marks of students from Class_C are not more than class A and Class B.\n"
     ]
    }
   ],
   "source": [
    "Class_A = (12,15,14,16,13,18,48,26,15,78)\n",
    "Class_B = (15,45,89,26,31,54,12,26,32,21)\n",
    "Class_C = (89,78,89,95,78,89,87,100,98,78)\n",
    "\n",
    "t_score, p_val = stats.f_oneway(Class_A,Class_B,Class_C)\n",
    "print(p_val)\n",
    "if p_val<=0.05:\n",
    "    print('We reject the null hypothesis saying that The average marks of students from Class_C are not more than class A and Class B.')\n",
    "else:\n",
    "    print('We do not reject the null hypothesis saying that The average marks of students from class c are more than class A and Class B.')"
   ]
  },
  {
   "cell_type": "code",
   "execution_count": null,
   "id": "0d2d6291",
   "metadata": {},
   "outputs": [],
   "source": []
  }
 ],
 "metadata": {
  "kernelspec": {
   "display_name": "Python 3",
   "language": "python",
   "name": "python3"
  },
  "language_info": {
   "codemirror_mode": {
    "name": "ipython",
    "version": 3
   },
   "file_extension": ".py",
   "mimetype": "text/x-python",
   "name": "python",
   "nbconvert_exporter": "python",
   "pygments_lexer": "ipython3",
   "version": "3.8.8"
  }
 },
 "nbformat": 4,
 "nbformat_minor": 5
}
